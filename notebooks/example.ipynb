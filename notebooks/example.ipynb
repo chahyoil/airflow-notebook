{
 "cells": [
  {
   "cell_type": "code",
   "execution_count": null,
   "id": "694aa9c0-bbc8-4273-aa19-d288fe205ef2",
   "metadata": {
    "editable": true,
    "slideshow": {
     "slide_type": ""
    },
    "tags": [
     "parameters"
    ]
   },
   "outputs": [],
   "source": [
    "# parameters 태그를 가진 첫번째 셀에서 파라미터 정의\n",
    "start_date = \"2024-01-01\"    # @param\n",
    "days = 30                    # @param\n",
    "sample_size = 1000           # @param"
   ]
  },
  {
   "cell_type": "code",
   "execution_count": null,
   "id": "ccb8badc-bf5e-456f-b6e8-27b6005f9592",
   "metadata": {
    "editable": true,
    "slideshow": {
     "slide_type": ""
    },
    "tags": []
   },
   "outputs": [],
   "source": [
    "# 두번째 셀에서 실제 작업 수행\n",
    "import pandas as pd\n",
    "import numpy as np\n",
    "from datetime import datetime\n",
    "import logging\n",
    "import json\n",
    "from IPython.display import JSON\n",
    "\n",
    "# 로깅 설정\n",
    "logging.basicConfig(level=logging.INFO)\n",
    "logger = logging.getLogger(__name__)\n",
    "\n",
    "logger.info(f\"Analysis started at {datetime.now()}\")\n",
    "print(f\"Parameters: start_date={start_date}, days={days}, sample_size={sample_size}\")\n",
    "\n",
    "# 결과를 반환하기 위한 dictionary\n",
    "notebook_output = {\n",
    "    'execution_date': datetime.now().isoformat(),\n",
    "    'parameters': {\n",
    "        'start_date': start_date,\n",
    "        'days': days,\n",
    "        'sample_size': sample_size\n",
    "    }\n",
    "}\n",
    "\n",
    "# JSON 형식으로 결과 표시 (이는 papermill이 캡처할 수 있음)\n",
    "JSON(notebook_output)"
   ]
  },
  {
   "cell_type": "code",
   "execution_count": null,
   "id": "e5bc0ee9-620c-4582-9fa5-a0a05f77e6de",
   "metadata": {},
   "outputs": [],
   "source": [
    "# 로깅 설정\n",
    "logging.basicConfig(level=logging.INFO)\n",
    "logger = logging.getLogger(__name__)\n",
    "\n",
    "logger.info(f\"Analysis started at {datetime.now()}\")\n",
    "print(f\"Parameters: start_date={start_date}, days={days}, sample_size={sample_size}\")\n",
    "\n",
    "# 결과를 반환하기 위한 dictionary\n",
    "notebook_output = {\n",
    "    'execution_date': datetime.now().isoformat(),\n",
    "    'parameters': {\n",
    "        'start_date': start_date,\n",
    "        'days': days,\n",
    "        'sample_size': sample_size\n",
    "    }\n",
    "}"
   ]
  }
 ],
 "metadata": {
  "kernelspec": {
   "display_name": "Python 3 (ipykernel)",
   "language": "python",
   "name": "python3"
  },
  "language_info": {
   "codemirror_mode": {
    "name": "ipython",
    "version": 3
   },
   "file_extension": ".py",
   "mimetype": "text/x-python",
   "name": "python",
   "nbconvert_exporter": "python",
   "pygments_lexer": "ipython3",
   "version": "3.12.6"
  }
 },
 "nbformat": 4,
 "nbformat_minor": 5
}
