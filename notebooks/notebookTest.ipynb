{
 "cells": [
  {
   "cell_type": "code",
   "execution_count": 1,
   "id": "7721b1bb-8ae2-4fdd-8501-fd26e7524a70",
   "metadata": {
    "editable": true,
    "slideshow": {
     "slide_type": ""
    },
    "tags": []
   },
   "outputs": [
    {
     "name": "stderr",
     "output_type": "stream",
     "text": [
      "INFO:__main__:Notebook execution started at 2024-10-26 03:09:43.252829\n"
     ]
    }
   ],
   "source": [
    "import numpy as np\n",
    "import pandas as pd\n",
    "from datetime import datetime\n",
    "import logging\n",
    "\n",
    "# 로깅 설정\n",
    "logging.basicConfig(level=logging.INFO)\n",
    "logger = logging.getLogger(__name__)\n",
    "\n",
    "# 실행 시작 로깅\n",
    "logger.info(f\"Notebook execution started at {datetime.now()}\")\n",
    "\n",
    "# 더미 데이터 생성\n",
    "np.random.seed(42)\n",
    "n_samples = 1000\n",
    "\n",
    "# 날짜 범위 생성\n",
    "date_range = pd.date_range(start='2024-01-01', periods=n_samples)\n",
    "\n",
    "# 더미 데이터프레임 생성\n",
    "df = pd.DataFrame({\n",
    "    'date': date_range,\n",
    "    'value_1': np.random.normal(100, 15, n_samples),\n",
    "    'value_2': np.random.exponential(50, n_samples),\n",
    "    'category': np.random.choice(['A', 'B', 'C'], n_samples)\n",
    "})\n",
    "\n",
    "# 기본 통계 계산\n",
    "stats = {\n",
    "    'value_1_mean': df['value_1'].mean(),\n",
    "    'value_1_std': df['value_1'].std(),\n",
    "    'value_2_mean': df['value_2'].mean(),\n",
    "    'value_2_std': df['value_2'].std(),\n",
    "    'total_rows': len(df),\n",
    "    'categories': df['category'].value_counts().to_dict()\n",
    "}"
   ]
  },
  {
   "cell_type": "code",
   "execution_count": 3,
   "id": "67098969-7a36-4014-873f-1ceadfe483d4",
   "metadata": {},
   "outputs": [
    {
     "name": "stderr",
     "output_type": "stream",
     "text": [
      "INFO:__main__:Statistical summary:\n",
      "INFO:__main__:value_1_mean: 100.28998083733488\n",
      "INFO:__main__:value_1_std: 14.688239072695135\n",
      "INFO:__main__:value_2_mean: 50.39929668484337\n",
      "INFO:__main__:value_2_std: 50.14942544926654\n",
      "INFO:__main__:total_rows: 1000\n",
      "INFO:__main__:categories: {'A': 357, 'C': 336, 'B': 307}\n",
      "INFO:__main__:\n",
      "First 5 days of daily averages:\n",
      "INFO:__main__:            value_1  value_2\n",
      "date                        \n",
      "2024-01-01   107.45     9.17\n",
      "2024-01-02    97.93     5.52\n",
      "2024-01-03   109.72    50.59\n",
      "2024-01-04   122.85    61.29\n",
      "2024-01-05    96.49     1.60\n"
     ]
    }
   ],
   "source": [
    "# 결과 로깅\n",
    "logger.info(\"Statistical summary:\")\n",
    "for key, value in stats.items():\n",
    "    logger.info(f\"{key}: {value}\")\n",
    "\n",
    "# 일별 평균 계산\n",
    "daily_stats = df.groupby('date').agg({\n",
    "    'value_1': 'mean',\n",
    "    'value_2': 'mean'\n",
    "}).round(2)\n",
    "\n",
    "logger.info(\"\\nFirst 5 days of daily averages:\")\n",
    "logger.info(daily_stats.head())\n",
    "\n",
    "# 결과를 반환하기 위한 dictionary\n",
    "notebook_output = {\n",
    "    'execution_time': datetime.now().isoformat(),\n",
    "    'basic_stats': stats,\n",
    "    'daily_stats_sample': daily_stats.head().to_dict(),\n",
    "    'data_shape': df.shape\n",
    "}\n"
   ]
  },
  {
   "cell_type": "code",
   "execution_count": 4,
   "id": "1b2fa3ff-6b60-44f8-9127-e375a8c7f053",
   "metadata": {},
   "outputs": [
    {
     "data": {
      "text/plain": [
       "{'execution_time': '2024-10-26T02:30:38.119360',\n",
       " 'basic_stats': {'value_1_mean': 100.28998083733488,\n",
       "  'value_1_std': 14.688239072695135,\n",
       "  'value_2_mean': 50.39929668484337,\n",
       "  'value_2_std': 50.14942544926654,\n",
       "  'total_rows': 1000,\n",
       "  'categories': {'A': 357, 'C': 336, 'B': 307}},\n",
       " 'daily_stats_sample': {'value_1': {Timestamp('2024-01-01 00:00:00'): 107.45,\n",
       "   Timestamp('2024-01-02 00:00:00'): 97.93,\n",
       "   Timestamp('2024-01-03 00:00:00'): 109.72,\n",
       "   Timestamp('2024-01-04 00:00:00'): 122.85,\n",
       "   Timestamp('2024-01-05 00:00:00'): 96.49},\n",
       "  'value_2': {Timestamp('2024-01-01 00:00:00'): 9.17,\n",
       "   Timestamp('2024-01-02 00:00:00'): 5.52,\n",
       "   Timestamp('2024-01-03 00:00:00'): 50.59,\n",
       "   Timestamp('2024-01-04 00:00:00'): 61.29,\n",
       "   Timestamp('2024-01-05 00:00:00'): 1.6}},\n",
       " 'data_shape': (1000, 4)}"
      ]
     },
     "execution_count": 4,
     "metadata": {},
     "output_type": "execute_result"
    }
   ],
   "source": [
    "# 변수로 결과 저장 (Airflow에서 받을 수 있도록)\n",
    "notebook_output"
   ]
  }
 ],
 "metadata": {
  "kernelspec": {
   "display_name": "Python 3 (ipykernel)",
   "language": "python",
   "name": "python3"
  },
  "language_info": {
   "codemirror_mode": {
    "name": "ipython",
    "version": 3
   },
   "file_extension": ".py",
   "mimetype": "text/x-python",
   "name": "python",
   "nbconvert_exporter": "python",
   "pygments_lexer": "ipython3",
   "version": "3.12.6"
  }
 },
 "nbformat": 4,
 "nbformat_minor": 5
}
