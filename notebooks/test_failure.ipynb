{
 "cells": [
  {
   "cell_type": "code",
   "execution_count": null,
   "id": "a46044e6-457b-4d3d-999f-88c1160da0ad",
   "metadata": {
    "editable": true,
    "slideshow": {
     "slide_type": ""
    },
    "tags": [
     "parameters"
    ]
   },
   "outputs": [],
   "source": [
    "# test_failure.ipynb\n",
    "\n",
    "# Parameters\n",
    "threshold = 50  # @param\n",
    "raise_error = True  # @param\n",
    "error_type = \"value\"  # @param - options: \"value\", \"key\", \"custom\", \"assertion\"\n"
   ]
  },
  {
   "cell_type": "code",
   "execution_count": null,
   "id": "adaed006-7096-4667-a13a-788b5d392664",
   "metadata": {
    "editable": true,
    "slideshow": {
     "slide_type": ""
    },
    "tags": []
   },
   "outputs": [],
   "source": [
    "\n",
    "# Cell 2 - 기본 설정\n",
    "import logging\n",
    "from datetime import datetime\n",
    "import json\n",
    "from IPython.display import JSON\n",
    "\n",
    "logging.basicConfig(level=logging.INFO)\n",
    "logger = logging.getLogger(__name__)\n",
    "\n",
    "logger.info(f\"Starting execution at {datetime.now()}\")\n",
    "logger.info(f\"Parameters: threshold={threshold}, raise_error={raise_error}, error_type={error_type}\")\n"
   ]
  },
  {
   "cell_type": "code",
   "execution_count": null,
   "id": "80766b27-e29d-4637-87d5-be990b7102af",
   "metadata": {
    "editable": true,
    "slideshow": {
     "slide_type": ""
    },
    "tags": []
   },
   "outputs": [],
   "source": [
    "\n",
    "# Cell 3 - 에러 발생 시나리오\n",
    "if raise_error:\n",
    "    logger.warning(\"About to raise an error...\")\n",
    "    \n",
    "    if error_type == \"value\":\n",
    "        # ValueError 발생\n",
    "        raise ValueError(\"명시적으로 발생시킨 ValueError: 잘못된 값이 입력되었습니다!\")\n",
    "        \n",
    "    elif error_type == \"key\":\n",
    "        # KeyError 발생\n",
    "        empty_dict = {}\n",
    "        value = empty_dict['non_existent_key']\n",
    "        \n",
    "    elif error_type == \"assertion\":\n",
    "        # AssertionError 발생\n",
    "        assert threshold < 30, \"threshold는 30 미만이어야 합니다!\"\n",
    "        \n",
    "    elif error_type == \"custom\":\n",
    "        # 사용자 정의 예외 발생\n",
    "        class CustomAnalysisError(Exception):\n",
    "            pass\n",
    "        raise CustomAnalysisError(\"사용자 정의 분석 오류가 발생했습니다!\")\n",
    "        \n",
    "    else:\n",
    "        raise NotImplementedError(f\"지원하지 않는 에러 타입: {error_type}\")\n"
   ]
  },
  {
   "cell_type": "code",
   "execution_count": null,
   "id": "b523738e-565f-4586-a734-5d67f712e9cb",
   "metadata": {},
   "outputs": [],
   "source": [
    "\n",
    "# Cell 4 - 정상 실행 시 결과 생성\n",
    "logger.info(\"Generating results...\")\n",
    "results = {\n",
    "    'status': 'success',\n",
    "    'timestamp': datetime.now().isoformat(),\n",
    "    'threshold_used': threshold,\n",
    "    'calculations': {\n",
    "        'value1': 42,\n",
    "        'value2': 123\n",
    "    }\n",
    "}\n"
   ]
  },
  {
   "cell_type": "code",
   "execution_count": null,
   "id": "799e1008-8e51-428c-812f-a6f2fe25781b",
   "metadata": {},
   "outputs": [],
   "source": [
    "\n",
    "# 결과 출력\n",
    "display(JSON(results))"
   ]
  }
 ],
 "metadata": {
  "kernelspec": {
   "display_name": "Python 3 (ipykernel)",
   "language": "python",
   "name": "python3"
  },
  "language_info": {
   "codemirror_mode": {
    "name": "ipython",
    "version": 3
   },
   "file_extension": ".py",
   "mimetype": "text/x-python",
   "name": "python",
   "nbconvert_exporter": "python",
   "pygments_lexer": "ipython3",
   "version": "3.12.6"
  }
 },
 "nbformat": 4,
 "nbformat_minor": 5
}
