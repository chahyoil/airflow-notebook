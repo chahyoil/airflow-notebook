{
 "cells": [
  {
   "cell_type": "code",
   "execution_count": null,
   "id": "52223c20-65ba-411c-9bb1-c6c6172698a1",
   "metadata": {
    "editable": true,
    "slideshow": {
     "slide_type": ""
    },
    "tags": [
     "parameters"
    ]
   },
   "outputs": [],
   "source": [
    "\n",
    "# Parameters\n",
    "start_date = \"2024-01-01\"  # @param\n",
    "days = 30  # @param\n",
    "sample_size = 1000  # @param\n",
    "random_seed = 42  # @param\n",
    "category_weights = {'A': 0.4, 'B': 0.3, 'C': 0.3}  # @param\n"
   ]
  },
  {
   "cell_type": "code",
   "execution_count": null,
   "id": "dae196ad-200a-4c2d-aacb-db588c179966",
   "metadata": {
    "editable": true,
    "slideshow": {
     "slide_type": ""
    },
    "tags": []
   },
   "outputs": [],
   "source": [
    "\n",
    "import pandas as pd\n",
    "import numpy as np\n",
    "from datetime import datetime, timedelta\n",
    "import logging\n",
    "\n",
    "# 다음 셀부터는 일반 코드 셀입니다\n",
    "# 로깅 설정\n",
    "logging.basicConfig(level=logging.INFO)\n",
    "logger = logging.getLogger(__name__)\n",
    "\n",
    "logger.info(f\"Analysis started at {datetime.now()}\")\n",
    "logger.info(f\"Parameters received: start_date={start_date}, days={days}, sample_size={sample_size}\")\n",
    "\n",
    "# 날짜 범위 생성\n",
    "date_range = pd.date_range(start=start_date, periods=days)\n",
    "\n",
    "# 더미 데이터 생성\n",
    "data = []\n",
    "for date in date_range:\n",
    "    daily_samples = sample_size // days\n",
    "    \n",
    "    # 일별 데이터 생성\n",
    "    daily_data = pd.DataFrame({\n",
    "        'date': [date] * daily_samples,\n",
    "        'value_1': np.random.normal(100, 15, daily_samples),\n",
    "        'value_2': np.random.exponential(50, daily_samples),\n",
    "        'category': np.random.choice(\n",
    "            list(category_weights.keys()),\n",
    "            daily_samples,\n",
    "            p=list(category_weights.values())\n",
    "        )\n",
    "    })\n",
    "    data.append(daily_data)\n",
    "\n",
    "# 데이터프레임 결합\n",
    "df = pd.concat(data, ignore_index=True)\n",
    "logger.info(f\"Generated dataset shape: {df.shape}\")\n"
   ]
  },
  {
   "cell_type": "code",
   "execution_count": null,
   "id": "d535d59b-c14b-424d-8a9e-bf509ca0a8d3",
   "metadata": {
    "editable": true,
    "slideshow": {
     "slide_type": ""
    },
    "tags": []
   },
   "outputs": [],
   "source": [
    "\n",
    "# 기본 통계 계산\n",
    "stats = {\n",
    "    'value_1_mean': df['value_1'].mean(),\n",
    "    'value_1_std': df['value_1'].std(),\n",
    "    'value_2_mean': df['value_2'].mean(),\n",
    "    'value_2_std': df['value_2'].std(),\n",
    "    'total_rows': len(df),\n",
    "    'categories': df['category'].value_counts().to_dict()\n",
    "}\n",
    "\n",
    "# 결과 로깅\n",
    "logger.info(\"Statistical summary:\")\n",
    "for key, value in stats.items():\n",
    "    logger.info(f\"{key}: {value}\")\n",
    "\n",
    "# 일별 평균 계산\n",
    "daily_stats = df.groupby('date').agg({\n",
    "    'value_1': ['mean', 'std'],\n",
    "    'value_2': ['mean', 'std']\n",
    "}).round(2)\n",
    "\n",
    "logger.info(\"\\nFirst 5 days of daily averages:\")\n",
    "logger.info(daily_stats.head())\n",
    "\n",
    "# 카테고리별 분석\n",
    "category_analysis = df.groupby('category').agg({\n",
    "    'value_1': ['mean', 'std', 'count'],\n",
    "    'value_2': ['mean', 'std']\n",
    "}).round(2)\n",
    "\n",
    "logger.info(\"\\nCategory analysis:\")\n",
    "logger.info(category_analysis)\n",
    "\n",
    "# 이상치 탐지\n",
    "value1_outliers = df[np.abs(df['value_1'] - df['value_1'].mean()) > (3 * df['value_1'].std())]\n",
    "value2_outliers = df[np.abs(df['value_2'] - df['value_2'].mean()) > (3 * df['value_2'].std())]\n",
    "\n",
    "logger.info(f\"\\nFound {len(value1_outliers)} outliers in value_1\")\n",
    "logger.info(f\"Found {len(value2_outliers)} outliers in value_2\")\n"
   ]
  },
  {
   "cell_type": "code",
   "execution_count": null,
   "id": "6013f326-241c-4004-9314-b0e6f3fa1dc2",
   "metadata": {
    "editable": true,
    "slideshow": {
     "slide_type": ""
    },
    "tags": []
   },
   "outputs": [],
   "source": [
    "# 노트북의 마지막 셀\n",
    "from IPython.display import JSON, display\n",
    "\n",
    "# 결과를 반환하기 위한 dictionary\n",
    "notebook_output = {\n",
    "    'execution_info': {\n",
    "        'execution_time': datetime.now().isoformat(),\n",
    "        'parameters_used': {\n",
    "            'start_date': start_date,\n",
    "            'days': days,\n",
    "            'sample_size': sample_size,\n",
    "            'random_seed': random_seed,\n",
    "            'category_weights': category_weights\n",
    "        }\n",
    "    },\n",
    "    'basic_stats': stats,\n",
    "    'daily_stats_sample': daily_stats.head().to_dict(),\n",
    "    'category_analysis': category_analysis.to_dict(),\n",
    "    'outliers_summary': {\n",
    "        'value1_outliers_count': len(value1_outliers),\n",
    "        'value2_outliers_count': len(value2_outliers)\n",
    "    },\n",
    "    'data_shape': df.shape\n",
    "}\n",
    "\n",
    "# JSON으로 출력 (이것이 papermill에 의해 캡처됨)\n",
    "display(JSON(notebook_output))"
   ]
  }
 ],
 "metadata": {
  "kernelspec": {
   "display_name": "Python 3 (ipykernel)",
   "language": "python",
   "name": "python3"
  },
  "language_info": {
   "codemirror_mode": {
    "name": "ipython",
    "version": 3
   },
   "file_extension": ".py",
   "mimetype": "text/x-python",
   "name": "python",
   "nbconvert_exporter": "python",
   "pygments_lexer": "ipython3",
   "version": "3.12.6"
  }
 },
 "nbformat": 4,
 "nbformat_minor": 5
}
